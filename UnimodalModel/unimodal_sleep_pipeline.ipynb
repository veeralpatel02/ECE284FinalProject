{
 "cells": [
  {
   "cell_type": "code",
   "execution_count": null,
   "metadata": {},
   "outputs": [],
   "source": [
    "# 📦 Imports and Config\n",
    "import pandas as pd\n",
    "import numpy as np\n",
    "import matplotlib.pyplot as plt\n",
    "\n",
    "import seaborn as sns\n",
    "from sklearn.ensemble import RandomForestClassifier feeature_importances \n",
    "from sklearn.model_selection import train_test_split\n",
    "from sklearn.metrics import classification_report, confusion_matrix\n",
    "\n",
    "import os\n",
    "\n",
    "WINDOW = 30\n",
    "LABELS = [0, 1, 2, 3, 4]  # Wake, N1, N2, N3, REM"
   ]
  },
  {
   "cell_type": "code",
   "execution_count": null,
   "metadata": {},
   "outputs": [],
   "source": [
    "df = pd.read_csv('/Users/veeralpatel/ECE284FinalProject/data/S002_PSG_df_updated.csv', usecols=[\n",
    "    'ACC_X', 'ACC_Y', 'ACC_Z', 'TEMP', 'EDA', 'HR', 'Sleep_Stage'\n",
    "])\n",
    "\n",
    "stage_map = {\n",
    "    \"W\": 0,\n",
    "    \"N1\": 1,\n",
    "    \"N2\": 2,\n",
    "    \"N3\": 3,\n",
    "    \"R\": 4\n",
    "}\n",
    "\n",
    "df = df_raw.copy()\n",
    "df['Sleep_Stage'] = df['Sleep_Stage'].map(stage_map)\n",
    "df = df.dropna(subset=['Sleep_Stage'])\n",
    "df['Sleep_Stage'] = df['Sleep_Stage'].astype(int)"
   ]
  },
  {
   "cell_type": "code",
   "execution_count": null,
   "metadata": {},
   "outputs": [
    {
     "name": "stdout",
     "output_type": "stream",
     "text": [
      "Total rows after cleaning: 1964127\n",
      "Sleep stage counts:\n",
      " Sleep_Stage\n",
      "2    990000\n",
      "0    662997\n",
      "1    159000\n",
      "4    152130\n",
      "Name: count, dtype: int64\n"
     ]
    },
    {
     "data": {
      "text/html": [
       "<div>\n",
       "<style scoped>\n",
       "    .dataframe tbody tr th:only-of-type {\n",
       "        vertical-align: middle;\n",
       "    }\n",
       "\n",
       "    .dataframe tbody tr th {\n",
       "        vertical-align: top;\n",
       "    }\n",
       "\n",
       "    .dataframe thead th {\n",
       "        text-align: right;\n",
       "    }\n",
       "</style>\n",
       "<table border=\"1\" class=\"dataframe\">\n",
       "  <thead>\n",
       "    <tr style=\"text-align: right;\">\n",
       "      <th></th>\n",
       "      <th>acc_mean</th>\n",
       "      <th>acc_std</th>\n",
       "      <th>temp_mean</th>\n",
       "      <th>eda_mean</th>\n",
       "      <th>hr_mean</th>\n",
       "    </tr>\n",
       "  </thead>\n",
       "  <tbody>\n",
       "    <tr>\n",
       "      <th>0</th>\n",
       "      <td>65.451241</td>\n",
       "      <td>1.130342</td>\n",
       "      <td>32.090000</td>\n",
       "      <td>0.065662</td>\n",
       "      <td>72.850</td>\n",
       "    </tr>\n",
       "    <tr>\n",
       "      <th>1</th>\n",
       "      <td>65.383807</td>\n",
       "      <td>0.636087</td>\n",
       "      <td>32.090000</td>\n",
       "      <td>0.065491</td>\n",
       "      <td>72.850</td>\n",
       "    </tr>\n",
       "    <tr>\n",
       "      <th>2</th>\n",
       "      <td>65.385680</td>\n",
       "      <td>0.504692</td>\n",
       "      <td>32.090000</td>\n",
       "      <td>0.064808</td>\n",
       "      <td>72.850</td>\n",
       "    </tr>\n",
       "    <tr>\n",
       "      <th>3</th>\n",
       "      <td>65.328152</td>\n",
       "      <td>0.414253</td>\n",
       "      <td>32.105333</td>\n",
       "      <td>0.065320</td>\n",
       "      <td>73.218</td>\n",
       "    </tr>\n",
       "    <tr>\n",
       "      <th>4</th>\n",
       "      <td>65.282113</td>\n",
       "      <td>0.340882</td>\n",
       "      <td>32.110000</td>\n",
       "      <td>0.065320</td>\n",
       "      <td>73.330</td>\n",
       "    </tr>\n",
       "  </tbody>\n",
       "</table>\n",
       "</div>"
      ],
      "text/plain": [
       "    acc_mean   acc_std  temp_mean  eda_mean  hr_mean\n",
       "0  65.451241  1.130342  32.090000  0.065662   72.850\n",
       "1  65.383807  0.636087  32.090000  0.065491   72.850\n",
       "2  65.385680  0.504692  32.090000  0.064808   72.850\n",
       "3  65.328152  0.414253  32.105333  0.065320   73.218\n",
       "4  65.282113  0.340882  32.110000  0.065320   73.330"
      ]
     },
     "execution_count": 22,
     "metadata": {},
     "output_type": "execute_result"
    }
   ],
   "source": [
    "features = []\n",
    "labels = []\n",
    "\n",
    "for i in range(0, len(df) - WINDOW, WINDOW):\n",
    "    segment = df.iloc[i:i + WINDOW]\n",
    "    vm = np.sqrt(segment['ACC_X']**2 + segment['ACC_Y']**2 + segment['ACC_Z']**2)\n",
    "    features.append({\n",
    "        'acc_mean': vm.mean(),\n",
    "        'acc_std': vm.std(),\n",
    "        'temp_mean': segment['TEMP'].mean(),\n",
    "        'eda_mean': segment['EDA'].mean(),\n",
    "        'hr_mean': segment['HR'].mean(),\n",
    "    })\n",
    "    labels.append(segment['Sleep_Stage'].mode()[0])\n",
    "\n",
    "print(\"Total rows after cleaning:\", len(df))\n",
    "print(\"Sleep stage counts:\\n\", df['Sleep_Stage'].value_counts())\n",
    "\n",
    "X = pd.DataFrame(features)\n",
    "y = labels\n",
    "X.head()"
   ]
  },
  {
   "cell_type": "code",
   "execution_count": null,
   "metadata": {},
   "outputs": [
    {
     "name": "stdout",
     "output_type": "stream",
     "text": [
      "Total rows after cleaning: 1964127\n",
      "Sleep stage counts:\n",
      " Sleep_Stage\n",
      "2    990000\n",
      "0    662997\n",
      "1    159000\n",
      "4    152130\n",
      "Name: count, dtype: int64\n"
     ]
    }
   ],
   "source": [
    "X_train, X_test, y_train, y_test = train_test_split(X, y, test_size=0.2)\n",
    "model = RandomForestClassifier(n_estimators=100)\n",
    "model.fit(X_train, y_train)\n",
    "y_pred = model.predict(X_test)"
   ]
  },
  {
   "cell_type": "code",
   "execution_count": null,
   "metadata": {},
   "outputs": [
    {
     "name": "stdout",
     "output_type": "stream",
     "text": [
      "Classification Report:\n",
      "              precision    recall  f1-score   support\n",
      "\n",
      "           0       0.58      0.54      0.56      4423\n",
      "           1       0.27      0.13      0.17      1041\n",
      "           2       0.66      0.81      0.73      6611\n",
      "           4       0.20      0.08      0.11      1019\n",
      "\n",
      "    accuracy                           0.61     13094\n",
      "   macro avg       0.43      0.39      0.39     13094\n",
      "weighted avg       0.57      0.61      0.58     13094\n",
      "\n"
     ]
    },
    {
     "data": {
      "image/png": "[encoded data removed]",
      "text/plain": [
       "<Figure size 640x480 with 2 Axes>"
      ]
     },
     "metadata": {},
     "output_type": "display_data"
    }
   ],
   "source": [
    "print(classification_report(y_test, y_pred))\n",
    "cm = confusion_matrix(y_test, y_pred)\n",
    "sns.heatmap(cm, annot=True, fmt='d', cmap='Blues', xticklabels=LABELS, yticklabels=LABELS)\n",
    "plt.xlabel('Predicted')\n",
    "plt.ylabel('True')\n",
    "plt.title('Confusion Matrix - Model')\n",
    "plt.show()"
   ]
  },
  {
   "cell_type": "code",
   "execution_count": null,
   "metadata": {},
   "outputs": [],
   "source": [
    "results = {}\n",
    "X_acc = X[['acc_mean', 'acc_std']]\n",
    "X_train, X_test, y_train, y_test = train_test_split(X_acc, y, test_size=0.2)\n",
    "model_acc = RandomForestClassifier().fit(X_train, y_train)\n",
    "y_pred = model_acc.predict(X_test)\n",
    "report_acc = classification_report(y_test, y_pred, output_dict=True)\n",
    "results['ACC only'] = report_acc['macro avg']['f1-score']\n"
   ]
  },
  {
   "cell_type": "code",
   "execution_count": 27,
   "metadata": {},
   "outputs": [],
   "source": [
    "X_temp = X[['temp_mean']]\n",
    "X_train, X_test, y_train, y_test = train_test_split(X_temp, y, test_size=0.2)\n",
    "model_temp = RandomForestClassifier().fit(X_train, y_train)\n",
    "y_pred = model_temp.predict(X_test)\n",
    "report_temp = classification_report(y_test, y_pred, output_dict=True)\n",
    "results['TEMP only'] = report_temp['macro avg']['f1-score']"
   ]
  },
  {
   "cell_type": "code",
   "execution_count": 28,
   "metadata": {},
   "outputs": [],
   "source": [
    "X_hr = X[['hr_mean']]\n",
    "X_train, X_test, y_train, y_test = train_test_split(X_hr, y, test_size=0.2)\n",
    "model_hr = RandomForestClassifier().fit(X_train, y_train)\n",
    "y_pred = model_hr.predict(X_test)\n",
    "report_hr = classification_report(y_test, y_pred, output_dict=True)\n",
    "results['HR only'] = report_hr['macro avg']['f1-score']"
   ]
  },
  {
   "cell_type": "code",
   "execution_count": null,
   "metadata": {},
   "outputs": [
    {
     "name": "stdout",
     "output_type": "stream",
     "text": [
      "Unimodal vs. Fusion Model Performance (Macro F1 Score):\n"
     ]
    },
    {
     "data": {
      "text/html": [
       "<style type=\"text/css\">\n",
       "#T_3a7bf_row0_col0 {\n",
       "  background-color: #08306b;\n",
       "  color: #f1f1f1;\n",
       "}\n",
       "#T_3a7bf_row1_col0 {\n",
       "  background-color: #84bcdb;\n",
       "  color: #000000;\n",
       "}\n",
       "#T_3a7bf_row2_col0 {\n",
       "  background-color: #f7fbff;\n",
       "  color: #000000;\n",
       "}\n",
       "</style>\n",
       "<table id=\"T_3a7bf\">\n",
       "  <thead>\n",
       "    <tr>\n",
       "      <th class=\"blank level0\" >&nbsp;</th>\n",
       "      <th id=\"T_3a7bf_level0_col0\" class=\"col_heading level0 col0\" >Macro F1 Score</th>\n",
       "    </tr>\n",
       "  </thead>\n",
       "  <tbody>\n",
       "    <tr>\n",
       "      <th id=\"T_3a7bf_level0_row0\" class=\"row_heading level0 row0\" >TEMP only</th>\n",
       "      <td id=\"T_3a7bf_row0_col0\" class=\"data row0 col0\" >0.57</td>\n",
       "    </tr>\n",
       "    <tr>\n",
       "      <th id=\"T_3a7bf_level0_row1\" class=\"row_heading level0 row1\" >ACC only</th>\n",
       "      <td id=\"T_3a7bf_row1_col0\" class=\"data row1 col0\" >0.47</td>\n",
       "    </tr>\n",
       "    <tr>\n",
       "      <th id=\"T_3a7bf_level0_row2\" class=\"row_heading level0 row2\" >HR only</th>\n",
       "      <td id=\"T_3a7bf_row2_col0\" class=\"data row2 col0\" >0.39</td>\n",
       "    </tr>\n",
       "  </tbody>\n",
       "</table>\n"
      ],
      "text/plain": [
       "<pandas.io.formats.style.Styler at 0x32007b380>"
      ]
     },
     "metadata": {},
     "output_type": "display_data"
    },
    {
     "data": {
      "image/png": "[encoded data removed]",
      "text/plain": [
       "<Figure size 800x500 with 1 Axes>"
      ]
     },
     "metadata": {},
     "output_type": "display_data"
    }
   ],
   "source": [
    "df_results = pd.DataFrame.from_dict(results, orient='index', columns=['Macro F1 Score'])\n",
    "df_results = df_results.sort_values(by='Macro F1 Score', ascending=False)\n",
    "display(df_results.style.background_gradient(cmap='Blues').format(\"{:.2f}\"))\n",
    "plt.figure(figsize=(8, 5))\n",
    "df_results['Macro F1 Score'].plot(kind='bar', color=['skyblue' if 'Fusion' not in idx else 'steelblue' for idx in df_results.index])\n",
    "plt.title(\"Model Performance by Input Modality\")\n",
    "plt.ylabel(\"Macro F1 Score\")\n",
    "plt.ylim(0, 1.05)\n",
    "plt.xticks(rotation=45, ha='right')\n",
    "plt.grid(axis='y', linestyle='--', alpha=0.7)\n",
    "plt.tight_layout()\n",
    "plt.show()"
   ]
  },
  {
   "cell_type": "code",
   "execution_count": null,
   "metadata": {},
   "outputs": [
    {
     "ename": "NameError",
     "evalue": "name 'model' is not defined",
     "output_type": "error",
     "traceback": [
      "\u001b[0;31m---------------------------------------------------------------------------\u001b[0m",
      "\u001b[0;31mNameError\u001b[0m                                 Traceback (most recent call last)",
      "Cell \u001b[0;32mIn[2], line 4\u001b[0m\n\u001b[1;32m      1\u001b[0m \u001b[38;5;66;03m# Replace with actual features and model\u001b[39;00m\n\u001b[1;32m      3\u001b[0m features \u001b[38;5;241m=\u001b[39m [\u001b[38;5;124m'\u001b[39m\u001b[38;5;124mMean Temp\u001b[39m\u001b[38;5;124m'\u001b[39m, \u001b[38;5;124m'\u001b[39m\u001b[38;5;124mStd Temp\u001b[39m\u001b[38;5;124m'\u001b[39m, \u001b[38;5;124m'\u001b[39m\u001b[38;5;124mSkewness\u001b[39m\u001b[38;5;124m'\u001b[39m, \u001b[38;5;124m'\u001b[39m\u001b[38;5;124mKurtosis\u001b[39m\u001b[38;5;124m'\u001b[39m, \u001b[38;5;124m'\u001b[39m\u001b[38;5;124mMax Temp\u001b[39m\u001b[38;5;124m'\u001b[39m]\n\u001b[0;32m----> 4\u001b[0m importances \u001b[38;5;241m=\u001b[39m model\u001b[38;5;241m.\u001b[39mfeature_importances_\n\u001b[1;32m      6\u001b[0m \u001b[38;5;66;03m# Sort and select top 5\u001b[39;00m\n\u001b[1;32m      7\u001b[0m indices \u001b[38;5;241m=\u001b[39m np\u001b[38;5;241m.\u001b[39margsort(importances)[::\u001b[38;5;241m-\u001b[39m\u001b[38;5;241m1\u001b[39m][:\u001b[38;5;241m5\u001b[39m]\n",
      "\u001b[0;31mNameError\u001b[0m: name 'model' is not defined"
     ]
    }
   ],
   "source": [
    "features = ['Mean Temp', 'Std Temp', 'Skewness', 'Kurtosis', 'Max Temp']\n",
    "importances = model.feature_importances_\n",
    "indices = np.argsort(importances)[::-1][:5]\n",
    "top_features = [features[i] for i in indices]\n",
    "top_importances = importances[indices]\n",
    "plt.figure(figsize=(6, 3.5))\n",
    "plt.barh(top_features[::-1], top_importances[::-1], color='skyblue')\n",
    "plt.xlabel('Feature Importance')\n",
    "plt.title('Top Features: Temperature Modality')\n",
    "plt.tight_layout()\n",
    "plt.savefig('feature_importance_temp.pdf')\n"
   ]
  }
 ],
 "metadata": {
  "kernelspec": {
   "display_name": "Python (base)",
   "language": "python",
   "name": "base"
  },
  "language_info": {
   "codemirror_mode": {
    "name": "ipython",
    "version": 3
   },
   "file_extension": ".py",
   "mimetype": "text/x-python",
   "name": "python",
   "nbconvert_exporter": "python",
   "pygments_lexer": "ipython3",
   "version": "3.12.7"
  }
 },
 "nbformat": 4,
 "nbformat_minor": 2
}
